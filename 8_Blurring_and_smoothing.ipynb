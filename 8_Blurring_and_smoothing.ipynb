{
 "cells": [
  {
   "cell_type": "code",
   "execution_count": 1,
   "metadata": {},
   "outputs": [],
   "source": [
    "import numpy as np\n",
    "import cv2"
   ]
  },
  {
   "cell_type": "code",
   "execution_count": 2,
   "metadata": {},
   "outputs": [],
   "source": [
    "cap = cv2.VideoCapture(0)"
   ]
  },
  {
   "cell_type": "code",
   "execution_count": 3,
   "metadata": {},
   "outputs": [],
   "source": [
    "while True:\n",
    "    _, frame = cap.read()\n",
    "    hsv = cv2.cvtColor(frame, cv2.COLOR_BGR2HSV)\n",
    "    \n",
    "    \n",
    "    #hsv hue sat value\n",
    "    lower_red = np.array([150,100,120])\n",
    "    upper_red = np.array([180,255,255])\n",
    "    \n",
    "#    dark_red = np.uint8([[12,22,121]])\n",
    "#    dark_red = cv2.cvtColor(dark_red, cv2.COLOR_BGR2HSV)\n",
    "\n",
    "    mask = cv2.inRange(hsv, lower_red, upper_red)\n",
    "    res = cv2.bitwise_and(frame, frame, mask=mask)\n",
    "    \n",
    "    kernel = np.ones((15,15), np.float32)/225 #15*15 = 225\n",
    "    smoothed = cv2.filter2D(res, -1, kernel)\n",
    "    \n",
    "    blur = cv2.GaussianBlur(res, (15,15), 0)\n",
    "    median = cv2.medianBlur(res, 15)\n",
    "    bilateral = cv2.bilateralFilter(res, 15, 75, 75)\n",
    "    \n",
    "    cv2.imshow(\"frame\", frame)\n",
    "    #cv2.imshow(\"mask\", mask)\n",
    "    cv2.imshow(\"res\", res)\n",
    "    #cv2.imshow(\"smoothed\", smoothed)\n",
    "    cv2.imshow(\"blur\", blur)\n",
    "    cv2.imshow(\"median\", median)\n",
    "    cv2.imshow(\"bilateral\", bilateral)\n",
    "\n",
    "    k = cv2.waitKey(5) & 0xFF\n",
    "    if k == 27:\n",
    "        break\n",
    "\n",
    "cv2.destroyAllWindows()\n",
    "cap.release()"
   ]
  }
 ],
 "metadata": {
  "kernelspec": {
   "display_name": "Python 3",
   "language": "python",
   "name": "python3"
  },
  "language_info": {
   "codemirror_mode": {
    "name": "ipython",
    "version": 3
   },
   "file_extension": ".py",
   "mimetype": "text/x-python",
   "name": "python",
   "nbconvert_exporter": "python",
   "pygments_lexer": "ipython3",
   "version": "3.6.5"
  }
 },
 "nbformat": 4,
 "nbformat_minor": 2
}
